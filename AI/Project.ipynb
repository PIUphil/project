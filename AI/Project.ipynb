{
 "cells": [
  {
   "cell_type": "code",
   "execution_count": 1,
   "metadata": {},
   "outputs": [
    {
     "data": {
      "application/vnd.jupyter.widget-view+json": {
       "model_id": "d35803b22a684de7ae3267ac006c5725",
       "version_major": 2,
       "version_minor": 0
      },
      "text/plain": [
       "IntSlider(value=0, description='rssi_rout1')"
      ]
     },
     "metadata": {},
     "output_type": "display_data"
    },
    {
     "data": {
      "application/vnd.jupyter.widget-view+json": {
       "model_id": "43a054eae56a4f0885041b5c47b21b4e",
       "version_major": 2,
       "version_minor": 0
      },
      "text/plain": [
       "IntSlider(value=0, description='rssi_rout2')"
      ]
     },
     "metadata": {},
     "output_type": "display_data"
    },
    {
     "data": {
      "application/vnd.jupyter.widget-view+json": {
       "model_id": "d2d95c79f08943e69ee7e3b7c38fcd13",
       "version_major": 2,
       "version_minor": 0
      },
      "text/plain": [
       "IntSlider(value=0, description='rssi_rout3')"
      ]
     },
     "metadata": {},
     "output_type": "display_data"
    },
    {
     "data": {
      "application/vnd.jupyter.widget-view+json": {
       "model_id": "c3b37cbc96ff4bf48ac8ead099f4e302",
       "version_major": 2,
       "version_minor": 0
      },
      "text/plain": [
       "IntSlider(value=0, description='rssi_rout4')"
      ]
     },
     "metadata": {},
     "output_type": "display_data"
    },
    {
     "name": "stdout",
     "output_type": "stream",
     "text": [
      "[26.83 32.93 34.04 29.99]\n",
      "(37, 58)\n"
     ]
    },
    {
     "data": {
      "application/vnd.jupyter.widget-view+json": {
       "model_id": "7a156cee79454ad2a557cf6bc11c45ed",
       "version_major": 2,
       "version_minor": 0
      },
      "text/plain": [
       "interactive(children=(IntSlider(value=37, description='x', max=111, min=-37), IntSlider(value=58, description=…"
      ]
     },
     "metadata": {},
     "output_type": "display_data"
    },
    {
     "data": {
      "text/plain": [
       "<function __main__.location(x, y)>"
      ]
     },
     "execution_count": 1,
     "metadata": {},
     "output_type": "execute_result"
    }
   ],
   "source": [
    "import numpy as np\n",
    "import matplotlib.pyplot as plt\n",
    "import ipywidgets as widgets\n",
    "from ipywidgets import interact, interactive, fixed\n",
    "import serial\n",
    "import time\n",
    "\n",
    "ser = serial.Serial(\"/dev/ttyUSB0\", 115200)\n",
    "if not ser:\n",
    "    print(\"코디네이터가 연결되지 않았습니다\")\n",
    "\n",
    "def location(x,y):\n",
    "    #print(x,y)\n",
    "    plt.axis([-10,70,-10,130])\n",
    "    plt.plot(x, y,'rs')\n",
    "    plt.show()\n",
    "\n",
    "wList = np.array([])\n",
    "# point1 = np.array([])\n",
    "# point2 = np.array([])\n",
    "point1 = []\n",
    "point2 = []\n",
    "powerList = [np.array([]),np.array([]),np.array([]),np.array([])]\n",
    "x,y = 0,0\n",
    "\n",
    "\n",
    "# 신호 세기 측정 (Slider)\n",
    "for i in range(4):\n",
    "    wList = np.append(wList, widgets.IntSlider(max=100, description='rssi_rout'+str(i+1)))\n",
    "    display(wList[i])\n",
    "\n",
    "\n",
    "check = True\n",
    "if check:\n",
    "    check = not check\n",
    "    \n",
    "    start = time.time()\n",
    "    while True:\n",
    "        try:\n",
    "            ret = ser.readline()\n",
    "            if ret:\n",
    "                #print(ret.decode()[:-2])        # 제일 뒤의 '\\n'을 뺌\n",
    "\n",
    "                receive = np.array([])\n",
    "                receive = ret.decode()[:-2].split('#')        # 라우터이름, 신호세기\n",
    "\n",
    "                if receive[0]==\"Rout01\":\n",
    "                    wList[0].value = int(receive[1])\n",
    "                    powerList[0] = np.append(powerList[0], np.array([int(receive[1])]))\n",
    "\n",
    "                elif receive[0]==\"Rout02\":\n",
    "                    wList[1].value = int(receive[1])\n",
    "                    powerList[1] = np.append(powerList[1], np.array([int(receive[1])]))\n",
    "\n",
    "                elif receive[0]==\"Rout03\":\n",
    "                    wList[2].value = int(receive[1])\n",
    "                    powerList[2] = np.append(powerList[2], np.array([int(receive[1])]))\n",
    "\n",
    "                elif receive[0]==\"Rout04\":\n",
    "                    wList[3].value = int(receive[1])\n",
    "                    powerList[3] = np.append(powerList[3], np.array([int(receive[1])]))\n",
    "                else:\n",
    "                    pass\n",
    "                #time.sleep(.1)\n",
    "\n",
    "                if time.time()-start>3.5:\n",
    "                    break\n",
    "                    \n",
    "        except(KeyboardInterrupt):\n",
    "            break\n",
    "\n",
    "    #print(powerList)\n",
    "            \n",
    "#     for i in range(4):\n",
    "#         wList[i] = int(powerList[i].mean())\n",
    "    wList = np.array([round(i.mean(),2) for i in powerList])\n",
    "    #wList -= 20     # 최소거리\n",
    "    print(wList)\n",
    "    \n",
    "    \n",
    "# 좌표 구하기 - 대각선 간 비율 이용\n",
    "    w = 64.1    #  공간 가로길이\n",
    "    h = 129.1    #  공간 세로길이\n",
    "    ratio1 = wList[1] / (wList[1]+wList[3])\n",
    "    ratio2 = wList[0] / (wList[0]+wList[2])\n",
    "    \n",
    "    for i in range(int(w)):\n",
    "        for j in range(int(h)):\n",
    "            length1 = (i**2 + j**2)**(1/2)\n",
    "            length3 = ((w-i)**2 + (h-j)**2)**(1/2)\n",
    "\n",
    "            if (ratio1*length1 - (1-ratio1)*length3)**2 < 0.3 :\n",
    "                point1.append((i,j))\n",
    "\n",
    "            length0 = (i**2 + (h-j)**2)**(1/2)\n",
    "            length2 = ((w-i)**2 + j**2)**(1/2)\n",
    "\n",
    "            if (ratio2*length0 - (1-ratio2)*length2)**2 < 0.3 :\n",
    "                point2.append((i,j))\n",
    "    \n",
    "    brk = False\n",
    "    for i in point1:\n",
    "        for j in point2:\n",
    "            if i==j:\n",
    "                print(i)\n",
    "                x,y = i[0],i[1]\n",
    "                brk = True\n",
    "                break\n",
    "        if brk:\n",
    "            break\n",
    "\n",
    "interact(location, x=x, y=y)"
   ]
  },
  {
   "cell_type": "code",
   "execution_count": 19,
   "metadata": {},
   "outputs": [
    {
     "name": "stdout",
     "output_type": "stream",
     "text": [
      "[45.29944812 25.33929754  8.80056816 11.62755348 30.05328601 59.82641557]\n",
      "2 8.800568163476722\n",
      "[42.2 50.9]\n",
      "37 58\n"
     ]
    }
   ],
   "source": [
    "wayPoint = np.array([[42.2, 13], [42.2, 33.2], [42.2, 50.9], [42.2, 68.4], [42.2, 87.6], [42.2, 117.6]])\n",
    "\n",
    "# 현재위치(x,y)에서 경유지(way)까지의 거리측정\n",
    "waylen = np.array([])\n",
    "for i in range(len(wayPoint)):\n",
    "    waylen = np.append(waylen,((wayPoint[i][0]-x)**2+(wayPoint[i][1]-y)**2)**(1/2))\n",
    "    \n",
    "print(waylen)\n",
    "print(np.argmin(waylen), min(waylen))  # 가장 가까운 체크포인트, 거리\n",
    "print(wayPoint[np.argmin(waylen)])     # 가장 가까운 체크포인트 좌표\n",
    "print(x,y)                             # 현재 좌표\n",
    "\n",
    "# 각도, 주행시간(=거리/속력)   # 마찰 고려. \n"
   ]
  },
  {
   "cell_type": "code",
   "execution_count": null,
   "metadata": {},
   "outputs": [],
   "source": [
    "# 1바퀴 회전시간 = ?\n",
    "# => 각도에 해당하는 회전시간\n",
    "\n",
    "# 속도별 측정\n"
   ]
  },
  {
   "cell_type": "code",
   "execution_count": null,
   "metadata": {},
   "outputs": [],
   "source": [
    "# 회전\n",
    "import time\n",
    "from pop.Pilot import SerBot\n",
    "\n",
    "omni = OmniWheel()\n",
    "omni.forward([50,50,50])   # 모터를 앞쪽으로 회전 (3개모터 모두 앞으로 회전하면 제자리 회전하게됨)\n",
    "time.sleep(3)\n",
    "omni.backward([90,90,90])\n",
    "time.sleep(3)\n",
    "omni.stop()"
   ]
  },
  {
   "cell_type": "code",
   "execution_count": 30,
   "metadata": {},
   "outputs": [],
   "source": [
    "import time\n",
    "from pop.CAN import OmniWheel\n",
    "\n",
    "omni = OmniWheel()\n",
    "#omni.forward([15,15,15])\n",
    "speed = 15\n",
    "omni.backward([15 for _ in range(3)])\n",
    "time.sleep(5.215)\n",
    "omni.stop()\n",
    "\n",
    "# 5초 - 405도  1 + 1/8     # 속도20 - 한바퀴 : 40/9초\n",
    "# 속도15 - 한바퀴 : 5.21초"
   ]
  },
  {
   "cell_type": "code",
   "execution_count": 47,
   "metadata": {},
   "outputs": [],
   "source": [
    "omni.backward([15 for _ in range(3)])\n",
    "#time.sleep(5.515/2)\n",
    "time.sleep(2.6075)\n",
    "omni.stop()"
   ]
  },
  {
   "cell_type": "code",
   "execution_count": 198,
   "metadata": {},
   "outputs": [],
   "source": [
    "from pop.Pilot import SerBot\n",
    "from pop.CAN import OmniWheel\n",
    "import time\n",
    "\n",
    "bot = SerBot()\n",
    "omni = OmniWheel()\n",
    "\n",
    "def go(n):\n",
    "    bot.move(-1.18, 40)\n",
    "    time.sleep(n)\n",
    "    bot.stop()\n",
    "    time.sleep(.1)\n",
    "\n",
    "def back(n):\n",
    "    bot.move(180, 40)\n",
    "    time.sleep(n)\n",
    "    bot.stop()\n",
    "    time.sleep(.1)\n",
    "   \n",
    "    \n",
    "def turn(n):           # -360 ~ 360     # 양수-시계방향\n",
    "    if n>0:\n",
    "        omni.backward([15,15,15])\n",
    "    else:\n",
    "        omni.forward([15,15,15])\n",
    "        n *= -1\n",
    "        \n",
    "    time.sleep(5.235/360*n)         # 한바퀴(5.215)\n",
    "    #time.sleep(2.6075)         # 반바퀴\n",
    "    omni.stop()\n",
    "    time.sleep(.1)"
   ]
  },
  {
   "cell_type": "code",
   "execution_count": 200,
   "metadata": {},
   "outputs": [],
   "source": [
    "go(23)"
   ]
  },
  {
   "cell_type": "code",
   "execution_count": null,
   "metadata": {},
   "outputs": [],
   "source": [
    "from pop import xnode, time, IMU\n",
    "\n",
    "imu = IMU()\n",
    "\n",
    "while True:\n",
    "    #xnode.transmit(xnode.ADDR_BROADCAST, \"hello\")\n",
    "    \n",
    "    packet = xnode.receive()\n",
    "    \n",
    "    data = \"\"\n",
    "    for d in imu.accel(), imu.gyro():\n",
    "        data += (\"%.2f,\" * 3)%(d)\n",
    "    data += (\"%.2f,\" * 4)%(imu.quat())\n",
    "    \n",
    "    if packet:\n",
    "        print(str(packet['payload'])[2:-1], \"/\", data)\n",
    "\n",
    "    time.sleep_ms(10)\n",
    "    time.sleep(.5)"
   ]
  },
  {
   "cell_type": "code",
   "execution_count": null,
   "metadata": {},
   "outputs": [],
   "source": [
    "for i in range(3):\n",
    "    acc = np.append(wList, widgets.IntSlider(max=10, description='acc'+str(i+1)))\n",
    "    display(acc[i])\n",
    "for i in range(3):\n",
    "    gyro = np.append(wList, widgets.IntSlider(max=10, description='gyro'+str(i+1)))\n",
    "    display(gyro[i])\n",
    "for i in range(4):\n",
    "    quat = np.append(wList, widgets.IntSlider(max=10, description='quat'+str(i+1)))\n",
    "    display(quat[i])\n",
    "\n",
    "    "
   ]
  }
 ],
 "metadata": {
  "kernelspec": {
   "display_name": "Python 3",
   "language": "python",
   "name": "python3"
  },
  "language_info": {
   "codemirror_mode": {
    "name": "ipython",
    "version": 3
   },
   "file_extension": ".py",
   "mimetype": "text/x-python",
   "name": "python",
   "nbconvert_exporter": "python",
   "pygments_lexer": "ipython3",
   "version": "3.6.9"
  }
 },
 "nbformat": 4,
 "nbformat_minor": 4
}
